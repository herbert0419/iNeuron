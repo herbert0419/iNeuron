{
 "cells": [
  {
   "cell_type": "code",
   "execution_count": 1,
   "metadata": {
    "id": "thQiqhx_6hDv"
   },
   "outputs": [],
   "source": [
    "import pandas as pd\n",
    "import numpy as np"
   ]
  },
  {
   "cell_type": "code",
   "execution_count": 2,
   "metadata": {
    "id": "6CWoJ8TX6zGs"
   },
   "outputs": [],
   "source": [
    "df = pd.read_csv('/content/data.csv')"
   ]
  },
  {
   "cell_type": "code",
   "execution_count": 3,
   "metadata": {
    "id": "vuzQLwjz9pnO"
   },
   "outputs": [],
   "source": [
    "import datetime\n",
    "df.Day = pd.to_datetime(df.Day)"
   ]
  },
  {
   "cell_type": "markdown",
   "metadata": {
    "id": "fA5iN8gCAIw8"
   },
   "source": [
    "## **1. Which month has the highest median for maximum_gust_speed out of all the available records?**"
   ]
  },
  {
   "cell_type": "markdown",
   "metadata": {
    "id": "d0DRyPglF2xo"
   },
   "source": [
    "**Individual Month**"
   ]
  },
  {
   "cell_type": "code",
   "execution_count": 4,
   "metadata": {
    "colab": {
     "base_uri": "https://localhost:8080/"
    },
    "id": "e0WwZuWy9-ZS",
    "outputId": "21fb165d-e100-451a-ebc3-0445d9d72e31"
   },
   "outputs": [
    {
     "data": {
      "text/plain": [
       "11"
      ]
     },
     "execution_count": 4,
     "metadata": {},
     "output_type": "execute_result"
    }
   ],
   "source": [
    "df.groupby(df.Day.dt.month)['Maximum gust speed (mph)'].median().argmax() + 1"
   ]
  },
  {
   "cell_type": "markdown",
   "metadata": {
    "id": "b28PPdkqMaCc"
   },
   "source": [
    "**Observation**\n",
    "* 11th month"
   ]
  },
  {
   "cell_type": "markdown",
   "metadata": {
    "id": "5Me3M4WVGfXX"
   },
   "source": [
    "**Year Wise Month**"
   ]
  },
  {
   "cell_type": "code",
   "execution_count": 5,
   "metadata": {
    "colab": {
     "base_uri": "https://localhost:8080/"
    },
    "id": "HUI6SiyqGeT_",
    "outputId": "341a5ee2-af91-4d87-8450-45f7ea31794c"
   },
   "outputs": [
    {
     "data": {
      "text/plain": [
       "[11, 2010]"
      ]
     },
     "execution_count": 5,
     "metadata": {},
     "output_type": "execute_result"
    }
   ],
   "source": [
    "a= df.groupby([df.Day.dt.month, df.Day.dt.year])['Maximum gust speed (mph)'].median()\n",
    "list(a.index[(a.values == max(a)).argmax() + 1])"
   ]
  },
  {
   "cell_type": "markdown",
   "metadata": {
    "id": "PmvabdBlMd4J"
   },
   "source": [
    "**Observation**\n",
    "* 11th month, 2020"
   ]
  },
  {
   "cell_type": "markdown",
   "metadata": {
    "id": "tG2Vgwog69xS"
   },
   "source": [
    "## **2. Determine the average temperature between the months of March 2010 to May 2012 (including both the months)**"
   ]
  },
  {
   "cell_type": "code",
   "execution_count": 6,
   "metadata": {
    "colab": {
     "base_uri": "https://localhost:8080/"
    },
    "id": "dFgAi1NBAaho",
    "outputId": "090e7eb0-79d9-4a79-f4a9-1719baa19701"
   },
   "outputs": [
    {
     "data": {
      "text/plain": [
       "45.602342606149335"
      ]
     },
     "execution_count": 6,
     "metadata": {},
     "output_type": "execute_result"
    }
   ],
   "source": [
    " df[(df['Day'] >= '2010-03-01') & (df['Day'] <= '2012-05-31')]['Average temperature (°F)'].mean()"
   ]
  },
  {
   "cell_type": "markdown",
   "metadata": {
    "id": "rbuy9wbfMz5J"
   },
   "source": [
    "**Observation**\n",
    "* Average temperature is 45.60 F"
   ]
  },
  {
   "cell_type": "markdown",
   "metadata": {
    "id": "fcCVA22UBS9n"
   },
   "source": [
    "## **3. Out of all available records which day has the highest difference between maximum_pressure and minimum_pressure**"
   ]
  },
  {
   "cell_type": "code",
   "execution_count": 7,
   "metadata": {
    "colab": {
     "base_uri": "https://localhost:8080/"
    },
    "id": "wohrLgQ_Biir",
    "outputId": "0549aca1-de88-4264-c49d-5e0d3044f206"
   },
   "outputs": [
    {
     "data": {
      "text/plain": [
       "3067   2018-03-23\n",
       "Name: Day, dtype: datetime64[ns]"
      ]
     },
     "execution_count": 7,
     "metadata": {},
     "output_type": "execute_result"
    }
   ],
   "source": [
    "df[df['Maximum pressure '] - df['Minimum pressure '] == max(df['Maximum pressure '] - df['Minimum pressure '])]['Day']"
   ]
  },
  {
   "cell_type": "markdown",
   "metadata": {
    "id": "OG4QySEDMr3c"
   },
   "source": [
    "**Observation**\n",
    "* Day ---> 2018-03-23"
   ]
  },
  {
   "cell_type": "markdown",
   "metadata": {
    "id": "D7zI6vLrC20z"
   },
   "source": [
    "## **4. Find the range of average temperature on Dec 2010**"
   ]
  },
  {
   "cell_type": "code",
   "execution_count": 8,
   "metadata": {
    "colab": {
     "base_uri": "https://localhost:8080/"
    },
    "id": "cTyrgezzC5Lz",
    "outputId": "32d08b88-220d-4c13-99cb-7a64ad49ba72"
   },
   "outputs": [
    {
     "name": "stdout",
     "output_type": "stream",
     "text": [
      "Minimum: 1.5\n",
      "Maximum : 68.1\n"
     ]
    }
   ],
   "source": [
    "print(f\"Minimum: {min(df[(df.Day.dt.year == 2010) & (df.Day.dt.month == 12)]['Average temperature (°F)'])}\")\n",
    "print(f\"Maximum : {max(df[(df.Day.dt.year == 2010) & (df.Day.dt.month == 12)]['Average temperature (°F)'])}\")"
   ]
  },
  {
   "cell_type": "markdown",
   "metadata": {
    "id": "wIFBKBmLMmQQ"
   },
   "source": [
    "**Observation**\n",
    "* Range is between 1.5 to 68.1"
   ]
  }
 ],
 "metadata": {
  "colab": {
   "collapsed_sections": [],
   "provenance": []
  },
  "kernelspec": {
   "display_name": "Python 3",
   "name": "python3"
  },
  "language_info": {
   "name": "python"
  }
 },
 "nbformat": 4,
 "nbformat_minor": 0
}
