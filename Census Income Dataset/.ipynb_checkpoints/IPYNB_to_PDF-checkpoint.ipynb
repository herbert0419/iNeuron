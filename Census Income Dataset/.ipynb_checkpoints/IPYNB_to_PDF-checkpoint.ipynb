{
 "cells": [
  {
   "cell_type": "code",
   "execution_count": 1,
   "metadata": {
    "colab": {
     "base_uri": "https://localhost:8080/"
    },
    "executionInfo": {
     "elapsed": 722,
     "status": "ok",
     "timestamp": 1667764116285,
     "user": {
      "displayName": "SUBHASH DIXIT",
      "userId": "08352445209829260469"
     },
     "user_tz": -330
    },
    "id": "xB6OKk7R2Mpf",
    "outputId": "063fa2ec-298c-4106-b720-6c6c67fd21b9"
   },
   "outputs": [
    {
     "name": "stdout",
     "output_type": "stream",
     "text": [
      "Hello World\n"
     ]
    }
   ],
   "source": [
    "print(\"Hello World\")"
   ]
  },
  {
   "cell_type": "code",
   "execution_count": 2,
   "metadata": {
    "colab": {
     "base_uri": "https://localhost:8080/"
    },
    "executionInfo": {
     "elapsed": 55372,
     "status": "ok",
     "timestamp": 1667764172386,
     "user": {
      "displayName": "SUBHASH DIXIT",
      "userId": "08352445209829260469"
     },
     "user_tz": -330
    },
    "id": "ZjxdutlC2Vgi",
    "outputId": "8914f09f-35c6-4733-8e77-f8a2e57995b5"
   },
   "outputs": [
    {
     "name": "stderr",
     "output_type": "stream",
     "text": [
      "'apt-get' is not recognized as an internal or external command,\n",
      "operable program or batch file.\n"
     ]
    },
    {
     "name": "stdout",
     "output_type": "stream",
     "text": [
      "Collecting pypandoc\n",
      "  Downloading pypandoc-1.10-py3-none-any.whl (20 kB)\n",
      "Installing collected packages: pypandoc\n",
      "Successfully installed pypandoc-1.10\n"
     ]
    },
    {
     "name": "stderr",
     "output_type": "stream",
     "text": [
      "WARNING: There was an error checking the latest version of pip.\n"
     ]
    }
   ],
   "source": [
    "!apt-get install texlive texlive-xetex texlive-latex-extra pandoc\n",
    "!pip install pypandoc"
   ]
  },
  {
   "cell_type": "code",
   "execution_count": 3,
   "metadata": {
    "colab": {
     "base_uri": "https://localhost:8080/"
    },
    "executionInfo": {
     "elapsed": 14290,
     "status": "ok",
     "timestamp": 1667764186671,
     "user": {
      "displayName": "SUBHASH DIXIT",
      "userId": "08352445209829260469"
     },
     "user_tz": -330
    },
    "id": "iyhf8zhT2hTy",
    "outputId": "97a5fab7-2721-4bce-bb2c-2d4e69c444f6"
   },
   "outputs": [
    {
     "name": "stderr",
     "output_type": "stream",
     "text": [
      "[NbConvertApp] Converting notebook Census Income - Logistic Reg, DT, SVC.ipynb to PDF\n",
      "[NbConvertApp] Support files will be in Census Income - Logistic Reg, DT, SVC_files\\\n",
      "[NbConvertApp] Making directory .\\Census Income - Logistic Reg, DT, SVC_files\n",
      "[NbConvertApp] Making directory .\\Census Income - Logistic Reg, DT, SVC_files\n",
      "[NbConvertApp] Making directory .\\Census Income - Logistic Reg, DT, SVC_files\n",
      "[NbConvertApp] Making directory .\\Census Income - Logistic Reg, DT, SVC_files\n",
      "[NbConvertApp] Making directory .\\Census Income - Logistic Reg, DT, SVC_files\n",
      "[NbConvertApp] Making directory .\\Census Income - Logistic Reg, DT, SVC_files\n",
      "[NbConvertApp] Making directory .\\Census Income - Logistic Reg, DT, SVC_files\n",
      "[NbConvertApp] Making directory .\\Census Income - Logistic Reg, DT, SVC_files\n",
      "[NbConvertApp] Making directory .\\Census Income - Logistic Reg, DT, SVC_files\n",
      "[NbConvertApp] Making directory .\\Census Income - Logistic Reg, DT, SVC_files\n",
      "[NbConvertApp] Making directory .\\Census Income - Logistic Reg, DT, SVC_files\n",
      "[NbConvertApp] Making directory .\\Census Income - Logistic Reg, DT, SVC_files\n",
      "[NbConvertApp] Making directory .\\Census Income - Logistic Reg, DT, SVC_files\n",
      "[NbConvertApp] Making directory .\\Census Income - Logistic Reg, DT, SVC_files\n",
      "[NbConvertApp] Making directory .\\Census Income - Logistic Reg, DT, SVC_files\n",
      "[NbConvertApp] Making directory .\\Census Income - Logistic Reg, DT, SVC_files\n",
      "[NbConvertApp] Making directory .\\Census Income - Logistic Reg, DT, SVC_files\n",
      "[NbConvertApp] Making directory .\\Census Income - Logistic Reg, DT, SVC_files\n",
      "[NbConvertApp] Writing 130774 bytes to notebook.tex\n",
      "[NbConvertApp] Building PDF\n",
      "Traceback (most recent call last):\n",
      "  File \"C:\\Users\\Shobhandeb\\AppData\\Local\\Programs\\Python\\Python310\\lib\\runpy.py\", line 196, in _run_module_as_main\n",
      "    return _run_code(code, main_globals, None,\n",
      "  File \"C:\\Users\\Shobhandeb\\AppData\\Local\\Programs\\Python\\Python310\\lib\\runpy.py\", line 86, in _run_code\n",
      "    exec(code, run_globals)\n",
      "  File \"C:\\Users\\Shobhandeb\\AppData\\Local\\Programs\\Python\\Python310\\Scripts\\jupyter-nbconvert.EXE\\__main__.py\", line 7, in <module>\n",
      "  File \"C:\\Users\\Shobhandeb\\AppData\\Local\\Programs\\Python\\Python310\\lib\\site-packages\\jupyter_core\\application.py\", line 269, in launch_instance\n",
      "    return super().launch_instance(argv=argv, **kwargs)\n",
      "  File \"C:\\Users\\Shobhandeb\\AppData\\Local\\Programs\\Python\\Python310\\lib\\site-packages\\traitlets\\config\\application.py\", line 976, in launch_instance\n",
      "    app.start()\n",
      "  File \"C:\\Users\\Shobhandeb\\AppData\\Local\\Programs\\Python\\Python310\\lib\\site-packages\\nbconvert\\nbconvertapp.py\", line 414, in start\n",
      "    self.convert_notebooks()\n",
      "  File \"C:\\Users\\Shobhandeb\\AppData\\Local\\Programs\\Python\\Python310\\lib\\site-packages\\nbconvert\\nbconvertapp.py\", line 588, in convert_notebooks\n",
      "    self.convert_single_notebook(notebook_filename)\n",
      "  File \"C:\\Users\\Shobhandeb\\AppData\\Local\\Programs\\Python\\Python310\\lib\\site-packages\\nbconvert\\nbconvertapp.py\", line 551, in convert_single_notebook\n",
      "    output, resources = self.export_single_notebook(\n",
      "  File \"C:\\Users\\Shobhandeb\\AppData\\Local\\Programs\\Python\\Python310\\lib\\site-packages\\nbconvert\\nbconvertapp.py\", line 479, in export_single_notebook\n",
      "    output, resources = self.exporter.from_filename(\n",
      "  File \"C:\\Users\\Shobhandeb\\AppData\\Local\\Programs\\Python\\Python310\\lib\\site-packages\\nbconvert\\exporters\\exporter.py\", line 189, in from_filename\n",
      "    return self.from_file(f, resources=resources, **kw)\n",
      "  File \"C:\\Users\\Shobhandeb\\AppData\\Local\\Programs\\Python\\Python310\\lib\\site-packages\\nbconvert\\exporters\\exporter.py\", line 206, in from_file\n",
      "    return self.from_notebook_node(\n",
      "  File \"C:\\Users\\Shobhandeb\\AppData\\Local\\Programs\\Python\\Python310\\lib\\site-packages\\nbconvert\\exporters\\pdf.py\", line 194, in from_notebook_node\n",
      "    self.run_latex(tex_file)\n",
      "  File \"C:\\Users\\Shobhandeb\\AppData\\Local\\Programs\\Python\\Python310\\lib\\site-packages\\nbconvert\\exporters\\pdf.py\", line 164, in run_latex\n",
      "    return self.run_command(\n",
      "  File \"C:\\Users\\Shobhandeb\\AppData\\Local\\Programs\\Python\\Python310\\lib\\site-packages\\nbconvert\\exporters\\pdf.py\", line 111, in run_command\n",
      "    raise OSError(\n",
      "OSError: xelatex not found on PATH, if you have not installed xelatex you may need to do so. Find further instructions at https://nbconvert.readthedocs.io/en/latest/install.html#installing-tex.\n"
     ]
    }
   ],
   "source": [
    "!jupyter nbconvert --to PDF \"Census Income - Logistic Reg, DT, SVC.ipynb\""
   ]
  },
  {
   "cell_type": "code",
   "execution_count": null,
   "metadata": {
    "executionInfo": {
     "elapsed": 14,
     "status": "ok",
     "timestamp": 1667764186672,
     "user": {
      "displayName": "SUBHASH DIXIT",
      "userId": "08352445209829260469"
     },
     "user_tz": -330
    },
    "id": "lBbGtToP22c6"
   },
   "outputs": [],
   "source": []
  }
 ],
 "metadata": {
  "colab": {
   "authorship_tag": "ABX9TyNqeNUV8mvf7ZEorodGESXt",
   "provenance": []
  },
  "kernelspec": {
   "display_name": "Python 3 (ipykernel)",
   "language": "python",
   "name": "python3"
  },
  "language_info": {
   "codemirror_mode": {
    "name": "ipython",
    "version": 3
   },
   "file_extension": ".py",
   "mimetype": "text/x-python",
   "name": "python",
   "nbconvert_exporter": "python",
   "pygments_lexer": "ipython3",
   "version": "3.10.4"
  }
 },
 "nbformat": 4,
 "nbformat_minor": 1
}
