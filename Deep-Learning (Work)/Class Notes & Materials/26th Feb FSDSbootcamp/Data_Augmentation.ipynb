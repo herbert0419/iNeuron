{
  "nbformat": 4,
  "nbformat_minor": 0,
  "metadata": {
    "colab": {
      "provenance": []
    },
    "kernelspec": {
      "name": "python3",
      "display_name": "Python 3"
    },
    "language_info": {
      "name": "python"
    }
  },
  "cells": [
    {
      "cell_type": "markdown",
      "metadata": {
        "id": "PztzFpVbHtm3"
      },
      "source": [
        "# Data Augmentation"
      ]
    },
    {
      "cell_type": "markdown",
      "metadata": {
        "id": "K-aEnFQ8L-Ps"
      },
      "source": [
        "Limited data is a major obstacle in applying deep learning models like convolutional neural networks. Often, imbalanced classes can be an additional hindrance; while there may be sufficient data for some classes, equally important, but undersampled classes will suffer from poor class-specific accuracy."
      ]
    },
    {
      "cell_type": "markdown",
      "metadata": {
        "id": "CuazU6LnL_lm"
      },
      "source": [
        "# What is Data Augmentation?"
      ]
    },
    {
      "cell_type": "markdown",
      "metadata": {
        "id": "mR4mzfRgIEaX"
      },
      "source": [
        "Definition of “data augmentation” on Wikipedia is “Techniques are used to increase the amount of data by adding slightly modified copies of already existing data or newly created synthetic data from existing data.” So data augmentation involves creating new and representative data."
      ]
    },
    {
      "cell_type": "markdown",
      "metadata": {
        "id": "gTBdRYS4Q0VA"
      },
      "source": [
        "# Why is it important now?\n",
        "\n",
        "Machine learning applications especially in deep learning domain continue to diversify and increase rapidly. Data augmentation techniques may be a good tool against challenges which artificial intelligence world faces.\n",
        "\n",
        "Data augmentation is useful to improve performance and outcomes of machine learning models by forming new and different examples to train datasets. If dataset in a machine learning model is rich and sufficient, the model performs better and more accurate."
      ]
    },
    {
      "cell_type": "markdown",
      "metadata": {
        "id": "QnAbcalcQ-NQ"
      },
      "source": [
        "## Used in image classification and segmentation\n",
        "\n",
        "For data augmentation, making simple alterations on visual data is popular. In addition, generative adversarial networks (GANs) are used to create new synthetic data. Classic image processing activities for data augmentation are\n",
        "\n",
        "- padding\n",
        "- random rotating\n",
        "- re-scaling,\n",
        "- vertical and horizontal flipping\n",
        "- translation ( image is moved along X, Y direction)\n",
        "- cropping\n",
        "- zooming\n",
        "- darkening & brightening/color modification\n",
        "- grayscaling\n",
        "- changing contrast\n",
        "- adding noise\n",
        "- random erasing"
      ]
    },
    {
      "cell_type": "markdown",
      "metadata": {
        "id": "55b21bllRf37"
      },
      "source": [
        "![Source Medium](https://research.aimultiple.com/wp-content/uploads/2021/04/dataaugmention_image_alletranitons.png)"
      ]
    },
    {
      "cell_type": "markdown",
      "metadata": {
        "id": "j7B3wqQFSe8I"
      },
      "source": [
        "## Famous Research Papers\n",
        "\n",
        "\n",
        "### Random Erasing Data Augmentation\n",
        "\n",
        "[Random Erasing Paper Link](https://arxiv.org/pdf/1708.04896.pdf)\n",
        "\n",
        "### Improved Regularization of Convolutional Neural Networks with Cutout\n",
        "\n",
        "[Cutout Paper](https://arxiv.org/pdf/1708.04552.pdf)\n",
        "\n",
        "### Data Augmentation using Random Image Cropping and Patching for Deep CNNs\n",
        "\n",
        "[RICAP Paper](https://arxiv.org/pdf/1811.09030.pdf)\n",
        "\n"
      ]
    },
    {
      "cell_type": "markdown",
      "metadata": {
        "id": "F_rEUGT-R2lp"
      },
      "source": [
        "## What are the benefits of data augmentation?\n",
        "\n",
        "Benefits of data augmentation include:\n",
        "\n",
        "1. Improving model prediction accuracy\n",
        "   - adding more training data into the models\n",
        "   - preventing data scarcity for better models\n",
        "   - reducing data overfitting\n",
        "   - increasing generalization ability of the models\n",
        "   - helping resolve class imbalance issues in classification\n",
        "2. Reducing costs of collecting and labeling data"
      ]
    },
    {
      "cell_type": "markdown",
      "metadata": {
        "id": "J0ZyO11_R2Rn"
      },
      "source": [
        "## What are the challenges of data augmentation?\n",
        "\n",
        "1. Companies need to build evaluation systems for quality of augmented datasets. As use of data augmentation methods increases, assessment of quality of their output will be required.\n",
        "2. Data augmentation domain needs to develop new research and studies to create new/synthetic data with advanced applications. For example, generation of high-resolution images by using GANs is challenging\n",
        "3. If real dataset contains biases, data augmented from it will contain biases, too. So, identification of optimal data augmentation strategy is important. "
      ]
    }
  ]
}