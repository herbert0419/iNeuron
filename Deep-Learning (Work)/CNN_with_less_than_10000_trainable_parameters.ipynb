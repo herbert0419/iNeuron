{
  "nbformat": 4,
  "nbformat_minor": 0,
  "metadata": {
    "colab": {
      "provenance": []
    },
    "kernelspec": {
      "name": "python3",
      "display_name": "Python 3"
    },
    "language_info": {
      "name": "python"
    },
    "accelerator": "GPU"
  },
  "cells": [
    {
      "cell_type": "code",
      "metadata": {
        "id": "16O12EXNOAHB"
      },
      "source": [
        "# importing the numpy package with the alias np\n",
        "import numpy as np\n",
        "\n",
        "# importing sequential model from keras.models\n",
        "from keras.models import Sequential\n",
        "# importing different layers and activations from keras.layers\n",
        "from keras.layers import Dense, Dropout, Activation, Flatten, Add\n",
        "from keras.layers import Convolution2D, MaxPooling2D\n",
        "# importing np_utils from keras.utils\n",
        "from keras.utils import np_utils\n",
        "\n",
        "# importing the mnist dataset from keras.datasets \n",
        "from keras.datasets import mnist"
      ],
      "execution_count": null,
      "outputs": []
    },
    {
      "cell_type": "code",
      "metadata": {
        "colab": {
          "base_uri": "https://localhost:8080/"
        },
        "id": "EgADoiaoOIa7",
        "outputId": "e4ddaa7f-68fb-4982-bc8b-a3eb53da5c67"
      },
      "source": [
        "# we are downloading the MNIST dataset and splitting the data for training and testing\n",
        "(X_train, y_train), (X_test, y_test) = mnist.load_data()"
      ],
      "execution_count": null,
      "outputs": [
        {
          "output_type": "stream",
          "text": [
            "Downloading data from https://storage.googleapis.com/tensorflow/tf-keras-datasets/mnist.npz\n",
            "11493376/11490434 [==============================] - 0s 0us/step\n",
            "11501568/11490434 [==============================] - 0s 0us/step\n"
          ],
          "name": "stdout"
        }
      ]
    },
    {
      "cell_type": "code",
      "metadata": {
        "colab": {
          "base_uri": "https://localhost:8080/",
          "height": 299
        },
        "id": "VEs1CGXvORzi",
        "outputId": "63dc51c0-704f-4028-caae-c0ae9b96ab76"
      },
      "source": [
        "\n",
        "# printing out the shape of x_train\n",
        "print (X_train.shape)\n",
        "\n",
        "# importing pyplot with alias plt from matplotlib package\n",
        "from matplotlib import pyplot as plt\n",
        "# %matplotlib inline is a magic function to show us the plots in a notebook\n",
        "%matplotlib inline\n",
        "# plotting the first image or the image at index zero in the training dataset\n",
        "plt.imshow(X_train[0])"
      ],
      "execution_count": null,
      "outputs": [
        {
          "output_type": "stream",
          "text": [
            "(60000, 28, 28)\n"
          ],
          "name": "stdout"
        },
        {
          "output_type": "execute_result",
          "data": {
            "text/plain": [
              "<matplotlib.image.AxesImage at 0x7f3b1be3e450>"
            ]
          },
          "metadata": {
            "tags": []
          },
          "execution_count": 3
        },
        {
          "output_type": "display_data",
          "data": {
            "image/png": "[encoded data removed]",
            "text/plain": [
              "<Figure size 432x288 with 1 Axes>"
            ]
          },
          "metadata": {
            "tags": [],
            "needs_background": "light"
          }
        }
      ]
    },
    {
      "cell_type": "code",
      "metadata": {
        "id": "MTGr2Ra_OYBZ"
      },
      "source": [
        "#Reshaping our training and testing datatset using numpy's reshape function which we will feed to the model\n",
        "X_train = X_train.reshape(X_train.shape[0], 28, 28,1)\n",
        "X_test = X_test.reshape(X_test.shape[0], 28, 28,1)"
      ],
      "execution_count": null,
      "outputs": []
    },
    {
      "cell_type": "code",
      "metadata": {
        "id": "5IDPVua_OasD"
      },
      "source": [
        "#Doing type conversion or changing the datatype to float32 for the data\n",
        "X_train = X_train.astype('float32')\n",
        "X_test = X_test.astype('float32')\n",
        "#Doing standardization or normalization here dividing each pixel by 255 in the train and test data\n",
        "X_train /= 255\n",
        "X_test /= 255"
      ],
      "execution_count": null,
      "outputs": []
    },
    {
      "cell_type": "code",
      "metadata": {
        "id": "reE1b8noOcqs"
      },
      "source": [
        "# Convert 1-dimensional class arrays to 10-dimensional class matrices\n",
        "# simply we can say we are doing sort of onehot encoding\n",
        "Y_train = np_utils.to_categorical(y_train, 10)\n",
        "Y_test = np_utils.to_categorical(y_test, 10)"
      ],
      "execution_count": null,
      "outputs": []
    },
    {
      "cell_type": "code",
      "metadata": {
        "colab": {
          "base_uri": "https://localhost:8080/"
        },
        "id": "cAVBCyZfOe8h",
        "outputId": "a7fffaf6-43c2-43bb-902a-ad730e81b8b5"
      },
      "source": [
        "from keras.models import Sequential\n",
        "from keras.layers import Dense, Dropout, Activation, Flatten, Add\n",
        "from keras.layers import Convolution2D, MaxPooling2D\n",
        "\n",
        "from tensorflow.keras.layers import BatchNormalization, Activation\n",
        "# build the model object\n",
        "model = Sequential()\n",
        "\n",
        "model.add(Convolution2D(8,(3, 3), activation ='relu',input_shape = (28,28,1))) # Channel dimension = 26*26*10 , receptive field 3*3\n",
        "model.add(BatchNormalization())\n",
        "model.add(Dropout(0.1))\n",
        "\n",
        "model.add(Convolution2D(16,(3, 3), activation ='relu'))                         # Channel dimension = 24*24*16 , receptive field 5*5\n",
        "model.add(BatchNormalization())\n",
        "model.add(Dropout(0.1))\n",
        "\n",
        "model.add(Convolution2D(8,(1,1), activation ='relu'))                        # Channel dimension = 24*24*10 , receptive field 5*5\n",
        "model.add(MaxPooling2D(pool_size=(2,2))) #12                                # Channel dimension = 12*12*10 , receptive field 10*10\n",
        "\n",
        "model.add(Convolution2D(10,(3,3), activation ='relu'))                        # Channel dimension = 10*10*16 , receptive field 12*12\n",
        "model.add(BatchNormalization())\n",
        "model.add(Dropout(0.1))\n",
        "\n",
        "model.add(Convolution2D(10,(3,3), activation ='relu'))                         # Channel dimension = 8*8*16 , receptive field 14*14\n",
        "model.add(BatchNormalization())\n",
        "model.add(Dropout(0.1))\n",
        "\n",
        "model.add(Convolution2D(16,(3,3), activation ='relu'))                         # Channel dimension = 6*6*16 , receptive field 16*16\n",
        "model.add(BatchNormalization())\n",
        "model.add(Dropout(0.1))\n",
        "\n",
        "model.add(Convolution2D(16,(3,3), activation ='relu'))                         # Channel dimension = 4*4*16 , receptive field 18*18\n",
        "model.add(BatchNormalization())\n",
        "model.add(Dropout(0.1))\n",
        "\n",
        "model.add(Convolution2D(10,4,4))                                             # Channel dimension 4*4 to see the complete image \n",
        "\n",
        "model.add(Flatten())\n",
        "\n",
        "model.add(Activation('softmax'))\n",
        "\n",
        "model.summary()\n"
      ],
      "execution_count": null,
      "outputs": [
        {
          "output_type": "stream",
          "text": [
            "Model: \"sequential\"\n",
            "_________________________________________________________________\n",
            "Layer (type)                 Output Shape              Param #   \n",
            "=================================================================\n",
            "conv2d (Conv2D)              (None, 26, 26, 8)         80        \n",
            "_________________________________________________________________\n",
            "module_wrapper (ModuleWrappe (None, 26, 26, 8)         32        \n",
            "_________________________________________________________________\n",
            "dropout (Dropout)            (None, 26, 26, 8)         0         \n",
            "_________________________________________________________________\n",
            "conv2d_1 (Conv2D)            (None, 24, 24, 16)        1168      \n",
            "_________________________________________________________________\n",
            "module_wrapper_1 (ModuleWrap (None, 24, 24, 16)        64        \n",
            "_________________________________________________________________\n",
            "dropout_1 (Dropout)          (None, 24, 24, 16)        0         \n",
            "_________________________________________________________________\n",
            "conv2d_2 (Conv2D)            (None, 24, 24, 8)         136       \n",
            "_________________________________________________________________\n",
            "max_pooling2d (MaxPooling2D) (None, 12, 12, 8)         0         \n",
            "_________________________________________________________________\n",
            "conv2d_3 (Conv2D)            (None, 10, 10, 10)        730       \n",
            "_________________________________________________________________\n",
            "module_wrapper_2 (ModuleWrap (None, 10, 10, 10)        40        \n",
            "_________________________________________________________________\n",
            "dropout_2 (Dropout)          (None, 10, 10, 10)        0         \n",
            "_________________________________________________________________\n",
            "conv2d_4 (Conv2D)            (None, 8, 8, 10)          910       \n",
            "_________________________________________________________________\n",
            "module_wrapper_3 (ModuleWrap (None, 8, 8, 10)          40        \n",
            "_________________________________________________________________\n",
            "dropout_3 (Dropout)          (None, 8, 8, 10)          0         \n",
            "_________________________________________________________________\n",
            "conv2d_5 (Conv2D)            (None, 6, 6, 16)          1456      \n",
            "_________________________________________________________________\n",
            "module_wrapper_4 (ModuleWrap (None, 6, 6, 16)          64        \n",
            "_________________________________________________________________\n",
            "dropout_4 (Dropout)          (None, 6, 6, 16)          0         \n",
            "_________________________________________________________________\n",
            "conv2d_6 (Conv2D)            (None, 4, 4, 16)          2320      \n",
            "_________________________________________________________________\n",
            "module_wrapper_5 (ModuleWrap (None, 4, 4, 16)          64        \n",
            "_________________________________________________________________\n",
            "dropout_5 (Dropout)          (None, 4, 4, 16)          0         \n",
            "_________________________________________________________________\n",
            "conv2d_7 (Conv2D)            (None, 1, 1, 10)          2570      \n",
            "_________________________________________________________________\n",
            "flatten (Flatten)            (None, 10)                0         \n",
            "_________________________________________________________________\n",
            "module_wrapper_6 (ModuleWrap (None, 10)                0         \n",
            "=================================================================\n",
            "Total params: 9,674\n",
            "Trainable params: 9,522\n",
            "Non-trainable params: 152\n",
            "_________________________________________________________________\n"
          ],
          "name": "stdout"
        }
      ]
    },
    {
      "cell_type": "code",
      "metadata": {
        "id": "d91jjhuPPtBW",
        "colab": {
          "base_uri": "https://localhost:8080/"
        },
        "outputId": "753f448d-7d39-40f7-a43e-426f66fb0756"
      },
      "source": [
        "# We are importing the Adam Optimizer\n",
        "from keras.optimizers import Adam\n",
        "from keras.callbacks import LearningRateScheduler\n",
        "\n",
        "def scheduler(epoch, lr):\n",
        "  return round(0.003 * 1/(1 + 0.319 * epoch), 10)\n",
        "\n",
        "\n",
        "model.compile(loss='categorical_crossentropy', optimizer=Adam(lr=0.003), metrics=['accuracy'])\n",
        "model.fit(X_train, Y_train, batch_size=128, epochs=20, verbose=1, validation_data=(X_test, Y_test), callbacks=[LearningRateScheduler(scheduler, verbose=1)])"
      ],
      "execution_count": null,
      "outputs": [
        {
          "output_type": "stream",
          "text": [
            "/usr/local/lib/python3.7/dist-packages/tensorflow/python/keras/optimizer_v2/optimizer_v2.py:375: UserWarning: The `lr` argument is deprecated, use `learning_rate` instead.\n",
            "  \"The `lr` argument is deprecated, use `learning_rate` instead.\")\n"
          ],
          "name": "stderr"
        },
        {
          "output_type": "stream",
          "text": [
            "Epoch 1/20\n",
            "\n",
            "Epoch 00001: LearningRateScheduler reducing learning rate to 0.003.\n",
            "469/469 [==============================] - 50s 10ms/step - loss: 0.5565 - accuracy: 0.8177 - val_loss: 0.1482 - val_accuracy: 0.9499\n",
            "Epoch 2/20\n",
            "\n",
            "Epoch 00002: LearningRateScheduler reducing learning rate to 0.0022744503.\n",
            "469/469 [==============================] - 4s 8ms/step - loss: 0.0829 - accuracy: 0.9740 - val_loss: 0.0512 - val_accuracy: 0.9836\n",
            "Epoch 3/20\n",
            "\n",
            "Epoch 00003: LearningRateScheduler reducing learning rate to 0.0018315018.\n",
            "469/469 [==============================] - 4s 8ms/step - loss: 0.0624 - accuracy: 0.9804 - val_loss: 0.0427 - val_accuracy: 0.9858\n",
            "Epoch 4/20\n",
            "\n",
            "Epoch 00004: LearningRateScheduler reducing learning rate to 0.0015329586.\n",
            "469/469 [==============================] - 4s 8ms/step - loss: 0.0515 - accuracy: 0.9832 - val_loss: 0.0328 - val_accuracy: 0.9888\n",
            "Epoch 5/20\n",
            "\n",
            "Epoch 00005: LearningRateScheduler reducing learning rate to 0.0013181019.\n",
            "469/469 [==============================] - 4s 8ms/step - loss: 0.0469 - accuracy: 0.9853 - val_loss: 0.0303 - val_accuracy: 0.9897\n",
            "Epoch 6/20\n",
            "\n",
            "Epoch 00006: LearningRateScheduler reducing learning rate to 0.0011560694.\n",
            "469/469 [==============================] - 4s 8ms/step - loss: 0.0414 - accuracy: 0.9866 - val_loss: 0.0284 - val_accuracy: 0.9906\n",
            "Epoch 7/20\n",
            "\n",
            "Epoch 00007: LearningRateScheduler reducing learning rate to 0.0010295127.\n",
            "469/469 [==============================] - 4s 8ms/step - loss: 0.0352 - accuracy: 0.9883 - val_loss: 0.0235 - val_accuracy: 0.9918\n",
            "Epoch 8/20\n",
            "\n",
            "Epoch 00008: LearningRateScheduler reducing learning rate to 0.0009279307.\n",
            "469/469 [==============================] - 4s 8ms/step - loss: 0.0354 - accuracy: 0.9883 - val_loss: 0.0248 - val_accuracy: 0.9919\n",
            "Epoch 9/20\n",
            "\n",
            "Epoch 00009: LearningRateScheduler reducing learning rate to 0.0008445946.\n",
            "469/469 [==============================] - 4s 8ms/step - loss: 0.0351 - accuracy: 0.9884 - val_loss: 0.0271 - val_accuracy: 0.9914\n",
            "Epoch 10/20\n",
            "\n",
            "Epoch 00010: LearningRateScheduler reducing learning rate to 0.0007749935.\n",
            "469/469 [==============================] - 4s 8ms/step - loss: 0.0329 - accuracy: 0.9895 - val_loss: 0.0205 - val_accuracy: 0.9928\n",
            "Epoch 11/20\n",
            "\n",
            "Epoch 00011: LearningRateScheduler reducing learning rate to 0.0007159905.\n",
            "469/469 [==============================] - 4s 8ms/step - loss: 0.0293 - accuracy: 0.9909 - val_loss: 0.0214 - val_accuracy: 0.9932\n",
            "Epoch 12/20\n",
            "\n",
            "Epoch 00012: LearningRateScheduler reducing learning rate to 0.000665336.\n",
            "469/469 [==============================] - 4s 7ms/step - loss: 0.0308 - accuracy: 0.9905 - val_loss: 0.0213 - val_accuracy: 0.9930\n",
            "Epoch 13/20\n",
            "\n",
            "Epoch 00013: LearningRateScheduler reducing learning rate to 0.0006213753.\n",
            "469/469 [==============================] - 4s 8ms/step - loss: 0.0303 - accuracy: 0.9904 - val_loss: 0.0262 - val_accuracy: 0.9921\n",
            "Epoch 14/20\n",
            "\n",
            "Epoch 00014: LearningRateScheduler reducing learning rate to 0.0005828638.\n",
            "469/469 [==============================] - 4s 8ms/step - loss: 0.0267 - accuracy: 0.9913 - val_loss: 0.0202 - val_accuracy: 0.9930\n",
            "Epoch 15/20\n",
            "\n",
            "Epoch 00015: LearningRateScheduler reducing learning rate to 0.0005488474.\n",
            "469/469 [==============================] - 4s 8ms/step - loss: 0.0272 - accuracy: 0.9912 - val_loss: 0.0198 - val_accuracy: 0.9932\n",
            "Epoch 16/20\n",
            "\n",
            "Epoch 00016: LearningRateScheduler reducing learning rate to 0.0005185825.\n",
            "469/469 [==============================] - 4s 8ms/step - loss: 0.0236 - accuracy: 0.9926 - val_loss: 0.0184 - val_accuracy: 0.9940\n",
            "Epoch 17/20\n",
            "\n",
            "Epoch 00017: LearningRateScheduler reducing learning rate to 0.000491481.\n",
            "469/469 [==============================] - 4s 8ms/step - loss: 0.0233 - accuracy: 0.9924 - val_loss: 0.0192 - val_accuracy: 0.9934\n",
            "Epoch 18/20\n",
            "\n",
            "Epoch 00018: LearningRateScheduler reducing learning rate to 0.0004670715.\n",
            "469/469 [==============================] - 4s 8ms/step - loss: 0.0270 - accuracy: 0.9911 - val_loss: 0.0199 - val_accuracy: 0.9936\n",
            "Epoch 19/20\n",
            "\n",
            "Epoch 00019: LearningRateScheduler reducing learning rate to 0.0004449718.\n",
            "469/469 [==============================] - 4s 8ms/step - loss: 0.0244 - accuracy: 0.9920 - val_loss: 0.0195 - val_accuracy: 0.9935\n",
            "Epoch 20/20\n",
            "\n",
            "Epoch 00020: LearningRateScheduler reducing learning rate to 0.000424869.\n",
            "469/469 [==============================] - 4s 8ms/step - loss: 0.0231 - accuracy: 0.9928 - val_loss: 0.0186 - val_accuracy: 0.9937\n"
          ],
          "name": "stdout"
        },
        {
          "output_type": "execute_result",
          "data": {
            "text/plain": [
              "<keras.callbacks.History at 0x7f3b102d1250>"
            ]
          },
          "metadata": {
            "tags": []
          },
          "execution_count": 8
        }
      ]
    },
    {
      "cell_type": "code",
      "metadata": {
        "colab": {
          "base_uri": "https://localhost:8080/"
        },
        "id": "q1OVELr29eF6",
        "outputId": "424052f0-792c-43a3-ac9b-66958519c2e4"
      },
      "source": [
        "print(\"Validation Score:\" , model.evaluate(X_test, Y_test)[1])"
      ],
      "execution_count": null,
      "outputs": [
        {
          "output_type": "stream",
          "text": [
            "313/313 [==============================] - 1s 3ms/step - loss: 0.0186 - accuracy: 0.9937\n",
            "Validation Score: 0.9937000274658203\n"
          ],
          "name": "stdout"
        }
      ]
    },
    {
      "cell_type": "code",
      "metadata": {
        "id": "vRyFovVmhrAH"
      },
      "source": [],
      "execution_count": null,
      "outputs": []
    }
  ]
}