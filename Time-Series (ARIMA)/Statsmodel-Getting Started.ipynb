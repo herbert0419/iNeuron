{
 "cells": [
  {
   "cell_type": "code",
   "execution_count": 1,
   "id": "b5831b58",
   "metadata": {},
   "outputs": [],
   "source": [
    "import statsmodels.api as sm\n",
    "import pandas\n",
    "from patsy import dmatrices"
   ]
  },
  {
   "cell_type": "code",
   "execution_count": 3,
   "id": "7d0c879b",
   "metadata": {},
   "outputs": [],
   "source": [
    "df = pd.read_csv('SBIN.NS.csv')"
   ]
  },
  {
   "cell_type": "code",
   "execution_count": 4,
   "id": "2f07ac8d",
   "metadata": {},
   "outputs": [
    {
     "data": {
      "text/html": [
       "<div><div id=747853d5-4baf-4606-a2d5-2ae088420491 style=\"display:none; background-color:#9D6CFF; color:white; width:200px; height:30px; padding-left:5px; border-radius:4px; flex-direction:row; justify-content:space-around; align-items:center;\" onmouseover=\"this.style.backgroundColor='#BA9BF8'\" onmouseout=\"this.style.backgroundColor='#9D6CFF'\" onclick=\"window.commands?.execute('create-mitosheet-from-dataframe-output');\">See Full Dataframe in Mito</div> <script> if (window.commands?.hasCommand('create-mitosheet-from-dataframe-output')) document.getElementById('747853d5-4baf-4606-a2d5-2ae088420491').style.display = 'flex' </script> <table border=\"1\" class=\"dataframe\">\n",
       "  <thead>\n",
       "    <tr style=\"text-align: right;\">\n",
       "      <th></th>\n",
       "      <th>Date</th>\n",
       "      <th>Open</th>\n",
       "      <th>High</th>\n",
       "      <th>Low</th>\n",
       "      <th>Close</th>\n",
       "      <th>Adj Close</th>\n",
       "      <th>Volume</th>\n",
       "    </tr>\n",
       "  </thead>\n",
       "  <tbody>\n",
       "    <tr>\n",
       "      <th>0</th>\n",
       "      <td>2022-01-10</td>\n",
       "      <td>493.350006</td>\n",
       "      <td>504.950012</td>\n",
       "      <td>492.500000</td>\n",
       "      <td>503.649994</td>\n",
       "      <td>495.910736</td>\n",
       "      <td>15832274</td>\n",
       "    </tr>\n",
       "    <tr>\n",
       "      <th>1</th>\n",
       "      <td>2022-01-11</td>\n",
       "      <td>503.000000</td>\n",
       "      <td>507.799988</td>\n",
       "      <td>499.250000</td>\n",
       "      <td>505.950012</td>\n",
       "      <td>498.175415</td>\n",
       "      <td>16107950</td>\n",
       "    </tr>\n",
       "    <tr>\n",
       "      <th>2</th>\n",
       "      <td>2022-01-12</td>\n",
       "      <td>509.899994</td>\n",
       "      <td>513.500000</td>\n",
       "      <td>508.500000</td>\n",
       "      <td>510.250000</td>\n",
       "      <td>502.409332</td>\n",
       "      <td>14489616</td>\n",
       "    </tr>\n",
       "    <tr>\n",
       "      <th>3</th>\n",
       "      <td>2022-01-13</td>\n",
       "      <td>510.000000</td>\n",
       "      <td>512.849976</td>\n",
       "      <td>507.000000</td>\n",
       "      <td>511.350006</td>\n",
       "      <td>503.492432</td>\n",
       "      <td>10450974</td>\n",
       "    </tr>\n",
       "    <tr>\n",
       "      <th>4</th>\n",
       "      <td>2022-01-14</td>\n",
       "      <td>509.000000</td>\n",
       "      <td>510.350006</td>\n",
       "      <td>505.149994</td>\n",
       "      <td>508.350006</td>\n",
       "      <td>500.538544</td>\n",
       "      <td>8724574</td>\n",
       "    </tr>\n",
       "  </tbody>\n",
       "</table></div>"
      ],
      "text/plain": [
       "         Date        Open        High         Low       Close   Adj Close  \\\n",
       "0  2022-01-10  493.350006  504.950012  492.500000  503.649994  495.910736   \n",
       "1  2022-01-11  503.000000  507.799988  499.250000  505.950012  498.175415   \n",
       "2  2022-01-12  509.899994  513.500000  508.500000  510.250000  502.409332   \n",
       "3  2022-01-13  510.000000  512.849976  507.000000  511.350006  503.492432   \n",
       "4  2022-01-14  509.000000  510.350006  505.149994  508.350006  500.538544   \n",
       "\n",
       "     Volume  \n",
       "0  15832274  \n",
       "1  16107950  \n",
       "2  14489616  \n",
       "3  10450974  \n",
       "4   8724574  "
      ]
     },
     "execution_count": 4,
     "metadata": {},
     "output_type": "execute_result"
    }
   ],
   "source": [
    "df.head()"
   ]
  },
  {
   "cell_type": "code",
   "execution_count": 5,
   "id": "9861bd74",
   "metadata": {},
   "outputs": [
    {
     "data": {
      "text/html": [
       "<div><div id=349d3fe6-bd85-47b9-8888-a59ec52bfd65 style=\"display:none; background-color:#9D6CFF; color:white; width:200px; height:30px; padding-left:5px; border-radius:4px; flex-direction:row; justify-content:space-around; align-items:center;\" onmouseover=\"this.style.backgroundColor='#BA9BF8'\" onmouseout=\"this.style.backgroundColor='#9D6CFF'\" onclick=\"window.commands?.execute('create-mitosheet-from-dataframe-output');\">See Full Dataframe in Mito</div> <script> if (window.commands?.hasCommand('create-mitosheet-from-dataframe-output')) document.getElementById('349d3fe6-bd85-47b9-8888-a59ec52bfd65').style.display = 'flex' </script> <table border=\"1\" class=\"dataframe\">\n",
       "  <thead>\n",
       "    <tr style=\"text-align: right;\">\n",
       "      <th></th>\n",
       "      <th>Open</th>\n",
       "      <th>High</th>\n",
       "      <th>Low</th>\n",
       "      <th>Close</th>\n",
       "      <th>Adj Close</th>\n",
       "      <th>Volume</th>\n",
       "    </tr>\n",
       "  </thead>\n",
       "  <tbody>\n",
       "    <tr>\n",
       "      <th>count</th>\n",
       "      <td>250.000000</td>\n",
       "      <td>250.000000</td>\n",
       "      <td>250.000000</td>\n",
       "      <td>250.000000</td>\n",
       "      <td>250.000000</td>\n",
       "      <td>2.500000e+02</td>\n",
       "    </tr>\n",
       "    <tr>\n",
       "      <th>mean</th>\n",
       "      <td>525.035400</td>\n",
       "      <td>530.860801</td>\n",
       "      <td>519.263600</td>\n",
       "      <td>525.053400</td>\n",
       "      <td>522.272294</td>\n",
       "      <td>1.484001e+07</td>\n",
       "    </tr>\n",
       "    <tr>\n",
       "      <th>std</th>\n",
       "      <td>50.482591</td>\n",
       "      <td>50.068193</td>\n",
       "      <td>50.346553</td>\n",
       "      <td>50.124251</td>\n",
       "      <td>51.718377</td>\n",
       "      <td>7.397333e+06</td>\n",
       "    </tr>\n",
       "    <tr>\n",
       "      <th>min</th>\n",
       "      <td>438.000000</td>\n",
       "      <td>442.100006</td>\n",
       "      <td>425.000000</td>\n",
       "      <td>434.700012</td>\n",
       "      <td>433.534210</td>\n",
       "      <td>3.692065e+06</td>\n",
       "    </tr>\n",
       "    <tr>\n",
       "      <th>25%</th>\n",
       "      <td>485.400002</td>\n",
       "      <td>491.599998</td>\n",
       "      <td>481.374992</td>\n",
       "      <td>486.562500</td>\n",
       "      <td>483.073585</td>\n",
       "      <td>1.001845e+07</td>\n",
       "    </tr>\n",
       "    <tr>\n",
       "      <th>50%</th>\n",
       "      <td>517.950012</td>\n",
       "      <td>523.250000</td>\n",
       "      <td>512.324982</td>\n",
       "      <td>517.750000</td>\n",
       "      <td>515.128235</td>\n",
       "      <td>1.296502e+07</td>\n",
       "    </tr>\n",
       "    <tr>\n",
       "      <th>75%</th>\n",
       "      <td>560.525009</td>\n",
       "      <td>567.449997</td>\n",
       "      <td>553.199997</td>\n",
       "      <td>561.562485</td>\n",
       "      <td>561.562485</td>\n",
       "      <td>1.692078e+07</td>\n",
       "    </tr>\n",
       "    <tr>\n",
       "      <th>max</th>\n",
       "      <td>625.549988</td>\n",
       "      <td>629.549988</td>\n",
       "      <td>617.500000</td>\n",
       "      <td>625.500000</td>\n",
       "      <td>625.500000</td>\n",
       "      <td>6.140301e+07</td>\n",
       "    </tr>\n",
       "  </tbody>\n",
       "</table></div>"
      ],
      "text/plain": [
       "             Open        High         Low       Close   Adj Close  \\\n",
       "count  250.000000  250.000000  250.000000  250.000000  250.000000   \n",
       "mean   525.035400  530.860801  519.263600  525.053400  522.272294   \n",
       "std     50.482591   50.068193   50.346553   50.124251   51.718377   \n",
       "min    438.000000  442.100006  425.000000  434.700012  433.534210   \n",
       "25%    485.400002  491.599998  481.374992  486.562500  483.073585   \n",
       "50%    517.950012  523.250000  512.324982  517.750000  515.128235   \n",
       "75%    560.525009  567.449997  553.199997  561.562485  561.562485   \n",
       "max    625.549988  629.549988  617.500000  625.500000  625.500000   \n",
       "\n",
       "             Volume  \n",
       "count  2.500000e+02  \n",
       "mean   1.484001e+07  \n",
       "std    7.397333e+06  \n",
       "min    3.692065e+06  \n",
       "25%    1.001845e+07  \n",
       "50%    1.296502e+07  \n",
       "75%    1.692078e+07  \n",
       "max    6.140301e+07  "
      ]
     },
     "execution_count": 5,
     "metadata": {},
     "output_type": "execute_result"
    }
   ],
   "source": [
    "df.describe()"
   ]
  },
  {
   "cell_type": "code",
   "execution_count": 6,
   "id": "c56b1e94",
   "metadata": {},
   "outputs": [
    {
     "data": {
      "text/plain": [
       "Date         0\n",
       "Open         0\n",
       "High         0\n",
       "Low          0\n",
       "Close        0\n",
       "Adj Close    0\n",
       "Volume       0\n",
       "dtype: int64"
      ]
     },
     "execution_count": 6,
     "metadata": {},
     "output_type": "execute_result"
    }
   ],
   "source": [
    "df.isnull().sum()"
   ]
  },
  {
   "cell_type": "code",
   "execution_count": 9,
   "id": "042e2deb",
   "metadata": {},
   "outputs": [],
   "source": [
    "df_copy = df.copy()"
   ]
  },
  {
   "cell_type": "code",
   "execution_count": 13,
   "id": "b98d3167",
   "metadata": {},
   "outputs": [
    {
     "data": {
      "text/html": [
       "<div><div id=ab6620cf-a65c-44bb-9069-beb0970808ba style=\"display:none; background-color:#9D6CFF; color:white; width:200px; height:30px; padding-left:5px; border-radius:4px; flex-direction:row; justify-content:space-around; align-items:center;\" onmouseover=\"this.style.backgroundColor='#BA9BF8'\" onmouseout=\"this.style.backgroundColor='#9D6CFF'\" onclick=\"window.commands?.execute('create-mitosheet-from-dataframe-output');\">See Full Dataframe in Mito</div> <script> if (window.commands?.hasCommand('create-mitosheet-from-dataframe-output')) document.getElementById('ab6620cf-a65c-44bb-9069-beb0970808ba').style.display = 'flex' </script> <table border=\"1\" class=\"dataframe\">\n",
       "  <thead>\n",
       "    <tr style=\"text-align: right;\">\n",
       "      <th></th>\n",
       "      <th>Open</th>\n",
       "      <th>High</th>\n",
       "      <th>Low</th>\n",
       "      <th>Close</th>\n",
       "      <th>Adj Close</th>\n",
       "      <th>Volume</th>\n",
       "    </tr>\n",
       "  </thead>\n",
       "  <tbody>\n",
       "    <tr>\n",
       "      <th>0</th>\n",
       "      <td>493.350006</td>\n",
       "      <td>504.950012</td>\n",
       "      <td>492.500000</td>\n",
       "      <td>503.649994</td>\n",
       "      <td>495.910736</td>\n",
       "      <td>15832274</td>\n",
       "    </tr>\n",
       "    <tr>\n",
       "      <th>1</th>\n",
       "      <td>503.000000</td>\n",
       "      <td>507.799988</td>\n",
       "      <td>499.250000</td>\n",
       "      <td>505.950012</td>\n",
       "      <td>498.175415</td>\n",
       "      <td>16107950</td>\n",
       "    </tr>\n",
       "    <tr>\n",
       "      <th>2</th>\n",
       "      <td>509.899994</td>\n",
       "      <td>513.500000</td>\n",
       "      <td>508.500000</td>\n",
       "      <td>510.250000</td>\n",
       "      <td>502.409332</td>\n",
       "      <td>14489616</td>\n",
       "    </tr>\n",
       "    <tr>\n",
       "      <th>3</th>\n",
       "      <td>510.000000</td>\n",
       "      <td>512.849976</td>\n",
       "      <td>507.000000</td>\n",
       "      <td>511.350006</td>\n",
       "      <td>503.492432</td>\n",
       "      <td>10450974</td>\n",
       "    </tr>\n",
       "    <tr>\n",
       "      <th>4</th>\n",
       "      <td>509.000000</td>\n",
       "      <td>510.350006</td>\n",
       "      <td>505.149994</td>\n",
       "      <td>508.350006</td>\n",
       "      <td>500.538544</td>\n",
       "      <td>8724574</td>\n",
       "    </tr>\n",
       "  </tbody>\n",
       "</table></div>"
      ],
      "text/plain": [
       "         Open        High         Low       Close   Adj Close    Volume\n",
       "0  493.350006  504.950012  492.500000  503.649994  495.910736  15832274\n",
       "1  503.000000  507.799988  499.250000  505.950012  498.175415  16107950\n",
       "2  509.899994  513.500000  508.500000  510.250000  502.409332  14489616\n",
       "3  510.000000  512.849976  507.000000  511.350006  503.492432  10450974\n",
       "4  509.000000  510.350006  505.149994  508.350006  500.538544   8724574"
      ]
     },
     "execution_count": 13,
     "metadata": {},
     "output_type": "execute_result"
    }
   ],
   "source": [
    "df_copy.drop('Date',axis=1,inplace=True)\n",
    "df_copy.head()"
   ]
  },
  {
   "cell_type": "code",
   "execution_count": 14,
   "id": "d7779deb",
   "metadata": {},
   "outputs": [
    {
     "data": {
      "text/plain": [
       "<AxesSubplot:>"
      ]
     },
     "execution_count": 14,
     "metadata": {},
     "output_type": "execute_result"
    },
    {
     "data": {
      "image/png": "[encoded data removed]",
      "text/plain": [
       "<Figure size 432x288 with 2 Axes>"
      ]
     },
     "metadata": {
      "needs_background": "light"
     },
     "output_type": "display_data"
    }
   ],
   "source": [
    "import seaborn as sns\n",
    "sns.heatmap(df_copy)"
   ]
  },
  {
   "cell_type": "code",
   "execution_count": 28,
   "id": "f4ed2bd7",
   "metadata": {},
   "outputs": [],
   "source": [
    "y, X = dmatrices('Volume ~ High + Low + Close', data=df, return_type='dataframe')"
   ]
  },
  {
   "cell_type": "code",
   "execution_count": 29,
   "id": "9f3c9a55",
   "metadata": {},
   "outputs": [
    {
     "data": {
      "text/html": [
       "<div><div id=de72ed74-956d-468a-92ff-e62c8b822c77 style=\"display:none; background-color:#9D6CFF; color:white; width:200px; height:30px; padding-left:5px; border-radius:4px; flex-direction:row; justify-content:space-around; align-items:center;\" onmouseover=\"this.style.backgroundColor='#BA9BF8'\" onmouseout=\"this.style.backgroundColor='#9D6CFF'\" onclick=\"window.commands?.execute('create-mitosheet-from-dataframe-output');\">See Full Dataframe in Mito</div> <script> if (window.commands?.hasCommand('create-mitosheet-from-dataframe-output')) document.getElementById('de72ed74-956d-468a-92ff-e62c8b822c77').style.display = 'flex' </script> <table border=\"1\" class=\"dataframe\">\n",
       "  <thead>\n",
       "    <tr style=\"text-align: right;\">\n",
       "      <th></th>\n",
       "      <th>Volume</th>\n",
       "    </tr>\n",
       "  </thead>\n",
       "  <tbody>\n",
       "    <tr>\n",
       "      <th>0</th>\n",
       "      <td>15832274.0</td>\n",
       "    </tr>\n",
       "    <tr>\n",
       "      <th>1</th>\n",
       "      <td>16107950.0</td>\n",
       "    </tr>\n",
       "    <tr>\n",
       "      <th>2</th>\n",
       "      <td>14489616.0</td>\n",
       "    </tr>\n",
       "  </tbody>\n",
       "</table></div>"
      ],
      "text/plain": [
       "       Volume\n",
       "0  15832274.0\n",
       "1  16107950.0\n",
       "2  14489616.0"
      ]
     },
     "execution_count": 29,
     "metadata": {},
     "output_type": "execute_result"
    }
   ],
   "source": [
    "y[:3]"
   ]
  },
  {
   "cell_type": "code",
   "execution_count": 30,
   "id": "b092afd3",
   "metadata": {},
   "outputs": [
    {
     "data": {
      "text/html": [
       "<div><div id=a47fcc0b-45f2-42f9-a869-c93712ddc701 style=\"display:none; background-color:#9D6CFF; color:white; width:200px; height:30px; padding-left:5px; border-radius:4px; flex-direction:row; justify-content:space-around; align-items:center;\" onmouseover=\"this.style.backgroundColor='#BA9BF8'\" onmouseout=\"this.style.backgroundColor='#9D6CFF'\" onclick=\"window.commands?.execute('create-mitosheet-from-dataframe-output');\">See Full Dataframe in Mito</div> <script> if (window.commands?.hasCommand('create-mitosheet-from-dataframe-output')) document.getElementById('a47fcc0b-45f2-42f9-a869-c93712ddc701').style.display = 'flex' </script> <table border=\"1\" class=\"dataframe\">\n",
       "  <thead>\n",
       "    <tr style=\"text-align: right;\">\n",
       "      <th></th>\n",
       "      <th>Intercept</th>\n",
       "      <th>High</th>\n",
       "      <th>Low</th>\n",
       "      <th>Close</th>\n",
       "    </tr>\n",
       "  </thead>\n",
       "  <tbody>\n",
       "    <tr>\n",
       "      <th>0</th>\n",
       "      <td>1.0</td>\n",
       "      <td>504.950012</td>\n",
       "      <td>492.50</td>\n",
       "      <td>503.649994</td>\n",
       "    </tr>\n",
       "    <tr>\n",
       "      <th>1</th>\n",
       "      <td>1.0</td>\n",
       "      <td>507.799988</td>\n",
       "      <td>499.25</td>\n",
       "      <td>505.950012</td>\n",
       "    </tr>\n",
       "    <tr>\n",
       "      <th>2</th>\n",
       "      <td>1.0</td>\n",
       "      <td>513.500000</td>\n",
       "      <td>508.50</td>\n",
       "      <td>510.250000</td>\n",
       "    </tr>\n",
       "  </tbody>\n",
       "</table></div>"
      ],
      "text/plain": [
       "   Intercept        High     Low       Close\n",
       "0        1.0  504.950012  492.50  503.649994\n",
       "1        1.0  507.799988  499.25  505.950012\n",
       "2        1.0  513.500000  508.50  510.250000"
      ]
     },
     "execution_count": 30,
     "metadata": {},
     "output_type": "execute_result"
    }
   ],
   "source": [
    "X[:3]"
   ]
  },
  {
   "cell_type": "code",
   "execution_count": 31,
   "id": "d63527e3",
   "metadata": {},
   "outputs": [
    {
     "name": "stdout",
     "output_type": "stream",
     "text": [
      "                            OLS Regression Results                            \n",
      "==============================================================================\n",
      "Dep. Variable:                 Volume   R-squared:                       0.404\n",
      "Model:                            OLS   Adj. R-squared:                  0.397\n",
      "Method:                 Least Squares   F-statistic:                     55.63\n",
      "Date:                Thu, 19 Jan 2023   Prob (F-statistic):           1.74e-27\n",
      "Time:                        23:26:43   Log-Likelihood:                -4243.7\n",
      "No. Observations:                 250   AIC:                             8495.\n",
      "Df Residuals:                     246   BIC:                             8509.\n",
      "Df Model:                           3                                         \n",
      "Covariance Type:            nonrobust                                         \n",
      "==============================================================================\n",
      "                 coef    std err          t      P>|t|      [0.025      0.975]\n",
      "------------------------------------------------------------------------------\n",
      "Intercept   2.138e+07   3.96e+06      5.396      0.000    1.36e+07    2.92e+07\n",
      "High        8.302e+05   8.73e+04      9.504      0.000    6.58e+05       1e+06\n",
      "Low        -8.388e+05   8.05e+04    -10.422      0.000   -9.97e+05    -6.8e+05\n",
      "Close      -2.227e+04   9.31e+04     -0.239      0.811   -2.06e+05    1.61e+05\n",
      "==============================================================================\n",
      "Omnibus:                      105.420   Durbin-Watson:                   1.131\n",
      "Prob(Omnibus):                  0.000   Jarque-Bera (JB):              470.315\n",
      "Skew:                           1.688   Prob(JB):                    7.45e-103\n",
      "Kurtosis:                       8.809   Cond. No.                     9.96e+03\n",
      "==============================================================================\n",
      "\n",
      "Notes:\n",
      "[1] Standard Errors assume that the covariance matrix of the errors is correctly specified.\n",
      "[2] The condition number is large, 9.96e+03. This might indicate that there are\n",
      "strong multicollinearity or other numerical problems.\n"
     ]
    }
   ],
   "source": [
    "mod = sm.OLS(y, X)  ## Describe model\n",
    "res = mod.fit()     # Fit model\n",
    "print(res.summary())   # Summarize model"
   ]
  },
  {
   "cell_type": "code",
   "execution_count": 32,
   "id": "8aec324b",
   "metadata": {},
   "outputs": [
    {
     "data": {
      "text/plain": [
       "Intercept    2.137813e+07\n",
       "High         8.301630e+05\n",
       "Low         -8.387774e+05\n",
       "Close       -2.226928e+04\n",
       "dtype: float64"
      ]
     },
     "execution_count": 32,
     "metadata": {},
     "output_type": "execute_result"
    }
   ],
   "source": [
    "res.params"
   ]
  },
  {
   "cell_type": "code",
   "execution_count": 33,
   "id": "ccc92e14",
   "metadata": {},
   "outputs": [
    {
     "data": {
      "text/plain": [
       "(2.245144484725503, 5.260889217930643e-06)"
      ]
     },
     "execution_count": 33,
     "metadata": {},
     "output_type": "execute_result"
    }
   ],
   "source": [
    "sm.stats.linear_rainbow(res)"
   ]
  },
  {
   "cell_type": "code",
   "execution_count": 34,
   "id": "131a1aa9",
   "metadata": {},
   "outputs": [
    {
     "name": "stdout",
     "output_type": "stream",
     "text": [
      "eval_env: 1\n"
     ]
    },
    {
     "data": {
      "image/png": "[encoded data removed]",
      "text/plain": [
       "<Figure size 432x288 with 1 Axes>"
      ]
     },
     "execution_count": 34,
     "metadata": {},
     "output_type": "execute_result"
    },
    {
     "data": {
      "image/png": "[encoded data removed]",
      "text/plain": [
       "<Figure size 432x288 with 1 Axes>"
      ]
     },
     "metadata": {
      "needs_background": "light"
     },
     "output_type": "display_data"
    }
   ],
   "source": [
    "sm.graphics.plot_partregress('Volume', 'High', ['Low', 'Close'],data=df, obs_labels=False)"
   ]
  },
  {
   "cell_type": "code",
   "execution_count": null,
   "id": "a6da1c04",
   "metadata": {},
   "outputs": [],
   "source": []
  }
 ],
 "metadata": {
  "kernelspec": {
   "display_name": "Python 3 (ipykernel)",
   "language": "python",
   "name": "python3"
  },
  "language_info": {
   "codemirror_mode": {
    "name": "ipython",
    "version": 3
   },
   "file_extension": ".py",
   "mimetype": "text/x-python",
   "name": "python",
   "nbconvert_exporter": "python",
   "pygments_lexer": "ipython3",
   "version": "3.10.4"
  }
 },
 "nbformat": 4,
 "nbformat_minor": 5
}
